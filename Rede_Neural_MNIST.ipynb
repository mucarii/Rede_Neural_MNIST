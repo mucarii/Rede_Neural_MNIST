{
  "nbformat": 4,
  "nbformat_minor": 0,
  "metadata": {
    "colab": {
      "provenance": [],
      "authorship_tag": "ABX9TyPMUChX6E/rKRz76CzoM7WV",
      "include_colab_link": true
    },
    "kernelspec": {
      "name": "python3",
      "display_name": "Python 3"
    },
    "language_info": {
      "name": "python"
    }
  },
  "cells": [
    {
      "cell_type": "markdown",
      "metadata": {
        "id": "view-in-github",
        "colab_type": "text"
      },
      "source": [
        "<a href=\"https://colab.research.google.com/github/mucarii/Rede_Neural_MNIST/blob/main/Rede_Neural_MNIST.ipynb\" target=\"_parent\"><img src=\"https://colab.research.google.com/assets/colab-badge.svg\" alt=\"Open In Colab\"/></a>"
      ]
    },
    {
      "source": [
        "import numpy as np\n",
        "import torch\n",
        "import torch.nn.functional as F\n",
        "import torchvision\n",
        "import matplotlib.pyplot as plt\n",
        "from time import time\n",
        "from torchvision import datasets, transforms\n",
        "from torch import nn, optim"
      ],
      "cell_type": "code",
      "metadata": {
        "id": "Mu2W9EKgC5Aq"
      },
      "execution_count": 39,
      "outputs": []
    },
    {
      "cell_type": "code",
      "source": [
        "transform = transforms.ToTensor()\n",
        "\n",
        "trainset = datasets.MNIST('./MNIST_data/', download=True, train=True, transform=transform) # carrega a parte de treino do dataset\n",
        "trainloader = torch.utils.data.DataLoader(trainset, batch_size=64, shuffle=True) #cria um buffer para pegar os dados por parte\n",
        "\n",
        "valset = datasets.MNIST('./MNIST_data/', download=True, train=False, transform=transform) # carrega a parte de teste da validacao\n",
        "valloader = torch.utils.data.DataLoader(valset, batch_size=64, shuffle=True) #Cria um buffer para pegar os dados por parte"
      ],
      "metadata": {
        "id": "ju2D1finG5dL"
      },
      "execution_count": 40,
      "outputs": []
    },
    {
      "source": [
        "dataiter = iter(trainloader)\n",
        "imagens, etiquetas = next(dataiter)\n",
        "plt.imshow(imagens[0].numpy().squeeze(), cmap='gray_r');"
      ],
      "cell_type": "code",
      "metadata": {
        "colab": {
          "base_uri": "https://localhost:8080/",
          "height": 430
        },
        "id": "E_PuE-WeJUzV",
        "outputId": "a17439ad-8966-4251-f0db-5985d5bc1374"
      },
      "execution_count": 41,
      "outputs": [
        {
          "output_type": "display_data",
          "data": {
            "text/plain": [
              "<Figure size 640x480 with 1 Axes>"
            ],
            "image/png": "[encoded data removed]"
          },
          "metadata": {}
        }
      ]
    },
    {
      "cell_type": "code",
      "source": [
        "print(imagens[0].shape) # verificar dimensoes do tensor de cada imagem\n",
        "print(etiquetas[0].shape) # verificar dimensao do tensor  de cada etiqueta"
      ],
      "metadata": {
        "colab": {
          "base_uri": "https://localhost:8080/"
        },
        "id": "zKBWOTFgJOUU",
        "outputId": "5dc53257-2fca-403e-fd4e-5c6de5bf5075"
      },
      "execution_count": 42,
      "outputs": [
        {
          "output_type": "stream",
          "name": "stdout",
          "text": [
            "torch.Size([1, 28, 28])\n",
            "torch.Size([])\n"
          ]
        }
      ]
    },
    {
      "cell_type": "code",
      "source": [
        "class Modelo(nn.Module):\n",
        "    def __init__(self):\n",
        "        super(Modelo, self).__init__()\n",
        "        self.linear1 = nn.Linear(28*28, 128) # camada de entrada, 784 neuronios que se ligam a 128\n",
        "        self.linear2 = nn.Linear(128, 64) # camada interna 1, 128 neuronios que se ligam a 64\n",
        "        self.linear3 = nn.Linear(64, 10) # camada interna 2, 64 neuronios que se ligam a 10\n",
        "        # para a camada de saida nao e necessario definir nada pois so precisamos pegar o output da camada interna 2\n",
        "    def forward(self, x):\n",
        "        x = F.relu(self.linear1(x)) # funcao de ativacao da camada de entrada interna 1\n",
        "        x = F.relu(self.linear2(x)) #funcao de ativacao da camada interna 1 para a camada interna 2\n",
        "        x = self.linear3(x) # funcao de ativacao da camada interna 2 para a camada de saida, nesse caso f(X) = x\n",
        "        return F.log_softmax(x, dim=1) # dados utilizados para calcular a perda"
      ],
      "metadata": {
        "id": "I_Jc16uEJ5T-"
      },
      "execution_count": 43,
      "outputs": []
    },
    {
      "cell_type": "code",
      "source": [
        "def treino(modelo, trainloader, device):\n",
        "\n",
        "    otimizador = optim.SGD(modelo.parameters(), lr=0.01, momentum=0.5) # define a politica de atualizacao dos pesos e da bias\n",
        "    inicio = time() # marca o inicio do treinamento\n",
        "\n",
        "    criterio = nn.NLLLoss() # define a funcao de perda\n",
        "    EPOCHS = 200 # numero de epocas\n",
        "    modelo.train() # ativando o modo de treinamento do modelo\n",
        "\n",
        "    for epoch in range(EPOCHS):\n",
        "        perda_acumulada = 0.0 # zerando a perda acumulada\n",
        "\n",
        "        for imagens, etiquetas in trainloader:\n",
        "\n",
        "            imagens = imagens.view(imagens.shape[0], -1) # flatten\n",
        "            otimizador.zero_grad() # zerando os gradientes\n",
        "\n",
        "            output = modelo(imagens.to(device))\n",
        "            perda_instantanea = criterio(output, etiquetas.to(device)) # calcula a perda\n",
        "\n",
        "            perda_instantanea.backward()\n",
        "\n",
        "            otimizador.step()\n",
        "\n",
        "            perda_acumulada += perda_instantanea.item()\n",
        "\n",
        "        else:\n",
        "            print(\"Época {} - Perda resultante: {}\".format(epoch+1, perda_acumulada/len(trainloader)))\n",
        "\n",
        "    print(\"\\n\\nTempo de treino (em minutos) = \",(time()-inicio)/60)"
      ],
      "metadata": {
        "id": "MXA7WEt1MrkV"
      },
      "execution_count": 44,
      "outputs": []
    },
    {
      "cell_type": "code",
      "source": [
        "def validacao(modelo, valloader, device):\n",
        "  conta_corretas, conta_todas = 0, 0\n",
        "  for imagens, etiquetas in valloader:\n",
        "      for i in range(len(etiquetas)):\n",
        "          img = imagens[i].view(1, 784)\n",
        "          # desativar o autograd para acelerar a validacao\n",
        "          with torch.no_grad():\n",
        "              logps = modelo(img.to(device))\n",
        "\n",
        "          ps = torch.exp(logps) # converte outpit para escala normal\n",
        "          probab = list(ps.cpu().numpy()[0])\n",
        "          etiqueta_pred = probab.index(max(probab))\n",
        "          etiqueta_certa = etiquetas.numpy()[i]\n",
        "          if(etiqueta_certa == etiqueta_pred): #compara a previsao com o valor correto\n",
        "              conta_corretas += 1\n",
        "          conta_todas += 1\n",
        "\n",
        "  print(\"Total de imagens testadas =\", conta_todas)\n",
        "  print(\"\\nPrecisão do modelo = {}%\".format(conta_corretas*100/conta_todas))"
      ],
      "metadata": {
        "id": "N3_iE7JHO6FQ"
      },
      "execution_count": 45,
      "outputs": []
    },
    {
      "cell_type": "code",
      "source": [
        "modelo = Modelo()\n",
        "device = torch.device(\"cuda\" if torch.cuda.is_available() else \"cpu\")\n",
        "modelo.to(device)"
      ],
      "metadata": {
        "colab": {
          "base_uri": "https://localhost:8080/"
        },
        "id": "l0n4dUkfPbM8",
        "outputId": "49042dda-9de7-4b5e-f713-ff899620186b"
      },
      "execution_count": 46,
      "outputs": [
        {
          "output_type": "execute_result",
          "data": {
            "text/plain": [
              "Modelo(\n",
              "  (linear1): Linear(in_features=784, out_features=128, bias=True)\n",
              "  (linear2): Linear(in_features=128, out_features=64, bias=True)\n",
              "  (linear3): Linear(in_features=64, out_features=10, bias=True)\n",
              ")"
            ]
          },
          "metadata": {},
          "execution_count": 46
        }
      ]
    }
  ]
}